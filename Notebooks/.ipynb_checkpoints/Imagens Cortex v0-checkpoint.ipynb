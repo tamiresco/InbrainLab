{
 "cells": [
  {
   "cell_type": "code",
   "execution_count": 36,
   "id": "cbb67262",
   "metadata": {},
   "outputs": [],
   "source": [
    "from sklearn.model_selection import GridSearchCV\n",
    "from lightgbm import LGBMRegressor, LGBMClassifier, plot_tree\n",
    "from sklearn.metrics import r2_score, f1_score, plot_confusion_matrix\n",
    "import pickle5 as pickle\n",
    "from tqdm import tqdm\n",
    "import pandas as pd\n",
    "import matplotlib.pyplot as plt\n",
    "import modelling\n"
   ]
  },
  {
   "cell_type": "code",
   "execution_count": 33,
   "id": "c4c66e2b",
   "metadata": {},
   "outputs": [],
   "source": [
    "file = open(\"/home/brunovieira/Tamires_Experiments/Outputs/exp0/finalized_model.sav\",'rb')\n",
    "self = pickle.load(file)"
   ]
  },
  {
   "cell_type": "code",
   "execution_count": 34,
   "id": "16fe5e28",
   "metadata": {},
   "outputs": [
    {
     "ename": "AttributeError",
     "evalue": "'Model' object has no attribute 'set_resume'",
     "output_type": "error",
     "traceback": [
      "\u001b[0;31m---------------------------------------------------------------------------\u001b[0m",
      "\u001b[0;31mAttributeError\u001b[0m                            Traceback (most recent call last)",
      "\u001b[0;32m/tmp/ipykernel_39677/3187229978.py\u001b[0m in \u001b[0;36m<module>\u001b[0;34m\u001b[0m\n\u001b[0;32m----> 1\u001b[0;31m \u001b[0mself\u001b[0m\u001b[0;34m.\u001b[0m\u001b[0mset_resume\u001b[0m\u001b[0;34m(\u001b[0m\u001b[0;34m)\u001b[0m\u001b[0;34m\u001b[0m\u001b[0;34m\u001b[0m\u001b[0m\n\u001b[0m",
      "\u001b[0;31mAttributeError\u001b[0m: 'Model' object has no attribute 'set_resume'"
     ]
    }
   ],
   "source": [
    "self.set_resume()"
   ]
  },
  {
   "cell_type": "code",
   "execution_count": 35,
   "id": "9f48942d",
   "metadata": {},
   "outputs": [
    {
     "name": "stderr",
     "output_type": "stream",
     "text": [
      "100%|██████████| 3/3 [00:04<00:00,  1.36s/it]\n"
     ]
    },
    {
     "data": {
      "image/png": "[encoded data removed]",
      "text/plain": [
       "<Figure size 432x288 with 1 Axes>"
      ]
     },
     "metadata": {
      "needs_background": "light"
     },
     "output_type": "display_data"
    }
   ],
   "source": [
    "def learning_curv(m):\n",
    "    X_test = m.Xy_test_gr[m.features]\n",
    "    y_test = m.Xy_test_gr[m.target]\n",
    "    a = 72\n",
    "    list_sizes = [15*a,25*a,35*a] #[25, 50, 100, 300, 600, 800, 900]\n",
    "    aux_learning_curve = []\n",
    "\n",
    "    for sample_size in tqdm(list_sizes):\n",
    "        for bootstrap in range(5):\n",
    "            X_train = m.Xy_train_gr.head(sample_size).sample(frac=1, replace=True, random_state=bootstrap)[m.features]\n",
    "            y_train = m.Xy_train_gr.head(sample_size).sample(frac=1, replace=True, random_state=bootstrap)[m.target]\n",
    "            lgbm = modelling.model_with_tuning(X_train, y_train, n=2)\n",
    "            r2 = r2_score(y_test, lgbm.predict(X_test))\n",
    "            mean_r2_strutures = 0\n",
    "            aux_learning_curve.append([sample_size, r2, mean_r2_strutures])\n",
    "\n",
    "    df_lc_mean = pd.DataFrame(aux_learning_curve, columns=['train_size', 'r2','mean_r2_strutures']).groupby('train_size').mean().reset_index()\n",
    "    df_lc_std = pd.DataFrame(aux_learning_curve, columns=['train_size', 'r2','mean_r2_strutures']).groupby('train_size').std().reset_index()\n",
    "\n",
    "    plt.fill_between(df_lc_mean.train_size/a, \n",
    "                     df_lc_mean.r2-df_lc_std.r2,\n",
    "                     df_lc_mean.r2+df_lc_std.r2, \n",
    "                     color='b', \n",
    "                     alpha=.15)\n",
    "    plt.errorbar(df_lc_mean.train_size/a, df_lc_mean.r2, df_lc_std.r2)\n",
    "    plt.ylabel('R2')\n",
    "    plt.xlabel('train size')\n",
    "    plt.show()\n",
    "    #plt.savefig(fname=self.path_images+'learning_curv.png')\n",
    "\n",
    "learning_curv(m)"
   ]
  },
  {
   "cell_type": "code",
   "execution_count": null,
   "id": "5545e1f8",
   "metadata": {},
   "outputs": [],
   "source": []
  }
 ],
 "metadata": {
  "kernelspec": {
   "display_name": "Python 3 (ipykernel)",
   "language": "python",
   "name": "python3"
  },
  "language_info": {
   "codemirror_mode": {
    "name": "ipython",
    "version": 3
   },
   "file_extension": ".py",
   "mimetype": "text/x-python",
   "name": "python",
   "nbconvert_exporter": "python",
   "pygments_lexer": "ipython3",
   "version": "3.9.6"
  }
 },
 "nbformat": 4,
 "nbformat_minor": 5
}
