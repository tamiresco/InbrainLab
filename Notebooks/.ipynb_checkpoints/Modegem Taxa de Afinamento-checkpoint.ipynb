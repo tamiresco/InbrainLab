{
 "cells": [
  {
   "cell_type": "code",
   "execution_count": 1,
   "id": "967649b7",
   "metadata": {},
   "outputs": [],
   "source": [
    "import pandas as pd\n",
    "import numpy as np\n",
    "import preprocessing as pp\n",
    "import train_test_sets\n",
    "import modelling\n",
    "from tqdm import tqdm\n",
    "from boruta import BorutaPy\n",
    "from sklearn.ensemble import RandomForestRegressor\n",
    "from sklearn.metrics import r2_score, f1_score, plot_confusion_matrix\n",
    "import pickle5 as pickle"
   ]
  },
  {
   "cell_type": "code",
   "execution_count": 2,
   "id": "094a9da8",
   "metadata": {},
   "outputs": [],
   "source": [
    "mri_subs_path = \"/home/brunovieira/Tamires_Experiments/Bases_de_Dados/MRI_Data_Voxels_894.parquet\" \n",
    "mri_areas_path = \"/home/brunovieira/Tamires_Experiments/Bases_de_Dados/MRI_Data_Areas_890.csv\" \n",
    "bb_path = \"/home/brunovieira/Tamires_Experiments/Bases_de_Dados/BigBrain.xlsx\"\n",
    "ids_path = \"/home/brunovieira/Tamires_Experiments/Bases_de_Dados/participants_nkienhanced.tsv\""
   ]
  },
  {
   "cell_type": "code",
   "execution_count": 3,
   "id": "a41bd2f8",
   "metadata": {},
   "outputs": [
    {
     "name": "stderr",
     "output_type": "stream",
     "text": [
      "Dropping of nuisance columns in DataFrame reductions (with 'numeric_only=None') is deprecated; in a future version this will raise TypeError.  Select only valid columns before calling the reduction.\n"
     ]
    },
    {
     "data": {
      "text/html": [
       "<div>\n",
       "<style scoped>\n",
       "    .dataframe tbody tr th:only-of-type {\n",
       "        vertical-align: middle;\n",
       "    }\n",
       "\n",
       "    .dataframe tbody tr th {\n",
       "        vertical-align: top;\n",
       "    }\n",
       "\n",
       "    .dataframe thead th {\n",
       "        text-align: right;\n",
       "    }\n",
       "</style>\n",
       "<table border=\"1\" class=\"dataframe\">\n",
       "  <thead>\n",
       "    <tr style=\"text-align: right;\">\n",
       "      <th></th>\n",
       "      <th>participant</th>\n",
       "      <th>hemisphere</th>\n",
       "      <th>atlasEcono</th>\n",
       "      <th>atlasDF</th>\n",
       "      <th>area</th>\n",
       "      <th>curv</th>\n",
       "      <th>sulc</th>\n",
       "      <th>thickness</th>\n",
       "      <th>age</th>\n",
       "      <th>sex</th>\n",
       "      <th>handedness</th>\n",
       "    </tr>\n",
       "  </thead>\n",
       "  <tbody>\n",
       "    <tr>\n",
       "      <th>2401996</th>\n",
       "      <td>A00027167</td>\n",
       "      <td>left</td>\n",
       "      <td>27</td>\n",
       "      <td>11</td>\n",
       "      <td>0.061126</td>\n",
       "      <td>-0.354878</td>\n",
       "      <td>-5.671288</td>\n",
       "      <td>1.612637</td>\n",
       "      <td>14.0</td>\n",
       "      <td>FEMALE</td>\n",
       "      <td>RIGHT</td>\n",
       "    </tr>\n",
       "    <tr>\n",
       "      <th>2401997</th>\n",
       "      <td>A00027167</td>\n",
       "      <td>left</td>\n",
       "      <td>27</td>\n",
       "      <td>11</td>\n",
       "      <td>0.134875</td>\n",
       "      <td>-0.369926</td>\n",
       "      <td>-5.725038</td>\n",
       "      <td>1.739316</td>\n",
       "      <td>14.0</td>\n",
       "      <td>FEMALE</td>\n",
       "      <td>RIGHT</td>\n",
       "    </tr>\n",
       "    <tr>\n",
       "      <th>2401998</th>\n",
       "      <td>A00027167</td>\n",
       "      <td>left</td>\n",
       "      <td>27</td>\n",
       "      <td>11</td>\n",
       "      <td>0.216723</td>\n",
       "      <td>-0.369103</td>\n",
       "      <td>-5.672037</td>\n",
       "      <td>1.942646</td>\n",
       "      <td>14.0</td>\n",
       "      <td>FEMALE</td>\n",
       "      <td>RIGHT</td>\n",
       "    </tr>\n",
       "    <tr>\n",
       "      <th>2401999</th>\n",
       "      <td>A00027167</td>\n",
       "      <td>left</td>\n",
       "      <td>27</td>\n",
       "      <td>11</td>\n",
       "      <td>0.127283</td>\n",
       "      <td>-0.350193</td>\n",
       "      <td>-5.968047</td>\n",
       "      <td>1.678501</td>\n",
       "      <td>14.0</td>\n",
       "      <td>FEMALE</td>\n",
       "      <td>RIGHT</td>\n",
       "    </tr>\n",
       "    <tr>\n",
       "      <th>2402000</th>\n",
       "      <td>A00027167</td>\n",
       "      <td>left</td>\n",
       "      <td>27</td>\n",
       "      <td>11</td>\n",
       "      <td>0.353651</td>\n",
       "      <td>-0.361715</td>\n",
       "      <td>-5.944244</td>\n",
       "      <td>1.856771</td>\n",
       "      <td>14.0</td>\n",
       "      <td>FEMALE</td>\n",
       "      <td>RIGHT</td>\n",
       "    </tr>\n",
       "  </tbody>\n",
       "</table>\n",
       "</div>"
      ],
      "text/plain": [
       "        participant hemisphere  atlasEcono  atlasDF      area      curv  \\\n",
       "2401996   A00027167       left          27       11  0.061126 -0.354878   \n",
       "2401997   A00027167       left          27       11  0.134875 -0.369926   \n",
       "2401998   A00027167       left          27       11  0.216723 -0.369103   \n",
       "2401999   A00027167       left          27       11  0.127283 -0.350193   \n",
       "2402000   A00027167       left          27       11  0.353651 -0.361715   \n",
       "\n",
       "             sulc  thickness   age     sex handedness  \n",
       "2401996 -5.671288   1.612637  14.0  FEMALE      RIGHT  \n",
       "2401997 -5.725038   1.739316  14.0  FEMALE      RIGHT  \n",
       "2401998 -5.672037   1.942646  14.0  FEMALE      RIGHT  \n",
       "2401999 -5.968047   1.678501  14.0  FEMALE      RIGHT  \n",
       "2402000 -5.944244   1.856771  14.0  FEMALE      RIGHT  "
      ]
     },
     "execution_count": 3,
     "metadata": {},
     "output_type": "execute_result"
    }
   ],
   "source": [
    "# freesufer data\n",
    "mri_subs_all = pp.read_parquet(mri_subs_path)\n",
    "\n",
    "# sample, drop zeros and encode cats\n",
    "mri_subs = pp.clean_sample(mri_subs_all, sample_size=50)\n",
    "\n",
    "# quality assessment\n",
    "bad_participants = pp.find_bad_ones(mri_areas_path)\n",
    "mri_subs = pp.eliminate_bad_ones(bad_participants, mri_subs)\n",
    "mri_subs.head()"
   ]
  },
  {
   "cell_type": "code",
   "execution_count": 4,
   "id": "7474bae2",
   "metadata": {},
   "outputs": [
    {
     "data": {
      "text/html": [
       "<div>\n",
       "<style scoped>\n",
       "    .dataframe tbody tr th:only-of-type {\n",
       "        vertical-align: middle;\n",
       "    }\n",
       "\n",
       "    .dataframe tbody tr th {\n",
       "        vertical-align: top;\n",
       "    }\n",
       "\n",
       "    .dataframe thead th {\n",
       "        text-align: right;\n",
       "    }\n",
       "</style>\n",
       "<table border=\"1\" class=\"dataframe\">\n",
       "  <thead>\n",
       "    <tr style=\"text-align: right;\">\n",
       "      <th></th>\n",
       "      <th>participant</th>\n",
       "      <th>hemisphere</th>\n",
       "      <th>atlasEcono</th>\n",
       "      <th>atlasDF</th>\n",
       "      <th>area</th>\n",
       "      <th>curv</th>\n",
       "      <th>sulc</th>\n",
       "      <th>thickness</th>\n",
       "      <th>age</th>\n",
       "      <th>sex</th>\n",
       "      <th>handedness</th>\n",
       "    </tr>\n",
       "  </thead>\n",
       "  <tbody>\n",
       "    <tr>\n",
       "      <th>2401996</th>\n",
       "      <td>A00027167</td>\n",
       "      <td>0</td>\n",
       "      <td>27</td>\n",
       "      <td>11</td>\n",
       "      <td>0.061126</td>\n",
       "      <td>-0.354878</td>\n",
       "      <td>-5.671288</td>\n",
       "      <td>1.612637</td>\n",
       "      <td>14.0</td>\n",
       "      <td>0</td>\n",
       "      <td>2</td>\n",
       "    </tr>\n",
       "    <tr>\n",
       "      <th>2401997</th>\n",
       "      <td>A00027167</td>\n",
       "      <td>0</td>\n",
       "      <td>27</td>\n",
       "      <td>11</td>\n",
       "      <td>0.134875</td>\n",
       "      <td>-0.369926</td>\n",
       "      <td>-5.725038</td>\n",
       "      <td>1.739316</td>\n",
       "      <td>14.0</td>\n",
       "      <td>0</td>\n",
       "      <td>2</td>\n",
       "    </tr>\n",
       "    <tr>\n",
       "      <th>2401998</th>\n",
       "      <td>A00027167</td>\n",
       "      <td>0</td>\n",
       "      <td>27</td>\n",
       "      <td>11</td>\n",
       "      <td>0.216723</td>\n",
       "      <td>-0.369103</td>\n",
       "      <td>-5.672037</td>\n",
       "      <td>1.942646</td>\n",
       "      <td>14.0</td>\n",
       "      <td>0</td>\n",
       "      <td>2</td>\n",
       "    </tr>\n",
       "    <tr>\n",
       "      <th>2401999</th>\n",
       "      <td>A00027167</td>\n",
       "      <td>0</td>\n",
       "      <td>27</td>\n",
       "      <td>11</td>\n",
       "      <td>0.127283</td>\n",
       "      <td>-0.350193</td>\n",
       "      <td>-5.968047</td>\n",
       "      <td>1.678501</td>\n",
       "      <td>14.0</td>\n",
       "      <td>0</td>\n",
       "      <td>2</td>\n",
       "    </tr>\n",
       "    <tr>\n",
       "      <th>2402000</th>\n",
       "      <td>A00027167</td>\n",
       "      <td>0</td>\n",
       "      <td>27</td>\n",
       "      <td>11</td>\n",
       "      <td>0.353651</td>\n",
       "      <td>-0.361715</td>\n",
       "      <td>-5.944244</td>\n",
       "      <td>1.856771</td>\n",
       "      <td>14.0</td>\n",
       "      <td>0</td>\n",
       "      <td>2</td>\n",
       "    </tr>\n",
       "  </tbody>\n",
       "</table>\n",
       "</div>"
      ],
      "text/plain": [
       "        participant  hemisphere  atlasEcono  atlasDF      area      curv  \\\n",
       "2401996   A00027167           0          27       11  0.061126 -0.354878   \n",
       "2401997   A00027167           0          27       11  0.134875 -0.369926   \n",
       "2401998   A00027167           0          27       11  0.216723 -0.369103   \n",
       "2401999   A00027167           0          27       11  0.127283 -0.350193   \n",
       "2402000   A00027167           0          27       11  0.353651 -0.361715   \n",
       "\n",
       "             sulc  thickness   age  sex  handedness  \n",
       "2401996 -5.671288   1.612637  14.0    0           2  \n",
       "2401997 -5.725038   1.739316  14.0    0           2  \n",
       "2401998 -5.672037   1.942646  14.0    0           2  \n",
       "2401999 -5.968047   1.678501  14.0    0           2  \n",
       "2402000 -5.944244   1.856771  14.0    0           2  "
      ]
     },
     "execution_count": 4,
     "metadata": {},
     "output_type": "execute_result"
    }
   ],
   "source": [
    "# add identification features\n",
    "#mri_subs = pp.ids_features(ids_path, mri_subs)\n",
    "mri_subs1 = pp.cat2int(mri_subs, cat_features=['sex', 'handedness', 'hemisphere'])\n",
    "mri_subs1.head()"
   ]
  },
  {
   "cell_type": "code",
   "execution_count": 3,
   "id": "382d43e9",
   "metadata": {},
   "outputs": [
    {
     "name": "stderr",
     "output_type": "stream",
     "text": [
      "Dropping of nuisance columns in DataFrame reductions (with 'numeric_only=None') is deprecated; in a future version this will raise TypeError.  Select only valid columns before calling the reduction.\n"
     ]
    },
    {
     "data": {
      "text/plain": [
       "Index(['participant', 'hemisphere', 'atlasEcono', 'atlasDF', 'area', 'curv',\n",
       "       'sulc', 'thickness', 'age', 'sex', 'handedness', 'structure', 've_1',\n",
       "       've_2', 've_3', 've_4', 've_5', 've_6', 'bigbrain_layer_1',\n",
       "       'bigbrain_layer_2', 'bigbrain_layer_3', 'bigbrain_layer_4',\n",
       "       'bigbrain_layer_5', 'bigbrain_layer_6', 'bigbrain_layer_1_r',\n",
       "       'bigbrain_layer_2_r', 'bigbrain_layer_3_r', 'bigbrain_layer_4_r',\n",
       "       'bigbrain_layer_5_r', 'bigbrain_layer_6_r', 'bblayer1_age',\n",
       "       'bblayer2_age', 'bblayer3_age', 'bblayer4_age', 'bblayer5_age',\n",
       "       'bblayer6_age', 've1_age', 've2_age', 've3_age', 've4_age', 've5_age',\n",
       "       've6_age', 'h_structure'],\n",
       "      dtype='object')"
      ]
     },
     "execution_count": 3,
     "metadata": {},
     "output_type": "execute_result"
    }
   ],
   "source": [
    "# add bigbrain features\n",
    "mri_subs = pp.bb_features(bb_path, mri_subs)\n",
    "\n",
    "# prepare sets to models train and test\n",
    "Xy_sets = train_test_sets.separate(mri_subs) \n",
    "\n",
    "# retorna 4 elementos, 2 conjuntos de treino e teste, um a nivel de vertice e outro a nivel de estrutura cortical\n",
    "Xy_train_vo, Xy_test_vo, Xy_train_gr, Xy_test_gr = Xy_sets\n",
    "\n",
    "# lista de variaveis que temos nas bases\n",
    "#Xy_train_vo.columns#, Xy_train_gr.columns"
   ]
  },
  {
   "cell_type": "code",
   "execution_count": 4,
   "id": "dc131efe",
   "metadata": {},
   "outputs": [],
   "source": [
    "# experiment 1\n",
    "m = modelling.Model(Xy_sets,\n",
    "                     path_images_outputs = '/home/brunovieira/Tamires_Experiments/Outputs/exp0/',\n",
    "                     features = ['sex', 'handedness', 'hemisphere',\n",
    "                                 'age','area', 'sulc', 'curv',\n",
    "                                 'bigbrain_layer_1', 'bigbrain_layer_2','bigbrain_layer_3', \n",
    "                                 'bigbrain_layer_4', 'bigbrain_layer_5','bigbrain_layer_6'\n",
    "                                 ], \n",
    "                     hyperparameter_search_size = 2,\n",
    "                     voxel = False,\n",
    "                     structure_modeling = False,\n",
    "                     structure_evaluation = False #so faz sentido para voxel=True\n",
    "                    )"
   ]
  },
  {
   "cell_type": "code",
   "execution_count": 5,
   "id": "8d354e5d",
   "metadata": {},
   "outputs": [],
   "source": [
    "#m.test('vizualization')"
   ]
  },
  {
   "cell_type": "code",
   "execution_count": 6,
   "id": "a3d31286",
   "metadata": {},
   "outputs": [],
   "source": [
    "#m.explicability()"
   ]
  },
  {
   "cell_type": "code",
   "execution_count": 7,
   "id": "1c72ce8b",
   "metadata": {},
   "outputs": [
    {
     "data": {
      "text/plain": [
       "{'Target ': 'thickness',\n",
       " 'Features': 'sex, handedness, hemisphere, age, area, sulc, curv, bigbrain_layer_1, bigbrain_layer_2, bigbrain_layer_3, bigbrain_layer_4, bigbrain_layer_5, bigbrain_layer_6',\n",
       " 'Algoritmo': 'LGBMClassifier',\n",
       " 'Hyperparameters': {'learning_rate': 0.005,\n",
       "  'max_depth': 10,\n",
       "  'min_child_samples': 10,\n",
       "  'n_estimators': 700,\n",
       "  'num_leaves': 50,\n",
       "  'reg_alpha': 0,\n",
       "  'reg_lambda': 0,\n",
       "  'subsample_for_bin': 20000},\n",
       " 'Base de Dados instancias': 3720,\n",
       " 'Base de Dados participantes': 48.94736842105263,\n",
       " 'Model Type': 'Estruturas Corticais',\n",
       " 'structure_modeling': False,\n",
       " 'structure_evaluation': False}"
      ]
     },
     "execution_count": 7,
     "metadata": {},
     "output_type": "execute_result"
    }
   ],
   "source": [
    "m.set_resume()"
   ]
  },
  {
   "cell_type": "code",
   "execution_count": 8,
   "id": "ce3a1b71",
   "metadata": {},
   "outputs": [
    {
     "name": "stderr",
     "output_type": "stream",
     "text": [
      "100%|██████████| 3/3 [00:06<00:00,  2.32s/it]\n"
     ]
    },
    {
     "data": {
      "image/png": "[encoded data removed]",
      "text/plain": [
       "<Figure size 432x288 with 1 Axes>"
      ]
     },
     "metadata": {
      "needs_background": "light"
     },
     "output_type": "display_data"
    },
    {
     "data": {
      "text/plain": [
       "<Figure size 432x288 with 0 Axes>"
      ]
     },
     "metadata": {},
     "output_type": "display_data"
    }
   ],
   "source": [
    "m.learning_curv(list_sizes = [15,25,35])"
   ]
  },
  {
   "cell_type": "markdown",
   "id": "c7feceee",
   "metadata": {},
   "source": [
    "Rascunho"
   ]
  },
  {
   "cell_type": "code",
   "execution_count": 9,
   "id": "a93afd79",
   "metadata": {},
   "outputs": [
    {
     "ename": "SyntaxError",
     "evalue": "illegal target for annotation (1366074441.py, line 1)",
     "output_type": "error",
     "traceback": [
      "\u001b[0;36m  File \u001b[0;32m\"/tmp/ipykernel_11256/1366074441.py\"\u001b[0;36m, line \u001b[0;32m1\u001b[0m\n\u001b[0;31m    1: 0.5, -2.28\u001b[0m\n\u001b[0m    ^\u001b[0m\n\u001b[0;31mSyntaxError\u001b[0m\u001b[0;31m:\u001b[0m illegal target for annotation\n"
     ]
    }
   ],
   "source": [
    "1: 0.5, -2.28\n",
    "2: 0.53, -2.25\n",
    "3: 0.51, -2.46\n",
    "4: 0.61, -1.58\n",
    "5: 0.71, -0.66\n",
    "6: 0.58, -2.07\n",
    "atlasEconomo: 0.8, 0.02"
   ]
  }
 ],
 "metadata": {
  "kernelspec": {
   "display_name": "Python 3 (ipykernel)",
   "language": "python",
   "name": "python3"
  },
  "language_info": {
   "codemirror_mode": {
    "name": "ipython",
    "version": 3
   },
   "file_extension": ".py",
   "mimetype": "text/x-python",
   "name": "python",
   "nbconvert_exporter": "python",
   "pygments_lexer": "ipython3",
   "version": "3.9.6"
  }
 },
 "nbformat": 4,
 "nbformat_minor": 5
}
