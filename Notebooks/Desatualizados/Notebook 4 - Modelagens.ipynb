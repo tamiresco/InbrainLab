{
 "cells": [
  {
   "cell_type": "markdown",
   "id": "89e5e63b",
   "metadata": {},
   "source": [
    "# Notebook 4 - Modelagens\n",
    "    "
   ]
  },
  {
   "cell_type": "markdown",
   "id": "d8d702ba",
   "metadata": {},
   "source": [
    "## Ambiente"
   ]
  },
  {
   "cell_type": "code",
   "execution_count": 2,
   "id": "798f14c8",
   "metadata": {},
   "outputs": [],
   "source": [
    "import numpy as np\n",
    "import pandas as pd\n",
    "import random\n",
    "import shap \n",
    "\n",
    "from matplotlib import pyplot as plt\n",
    "from sklearn.metrics import r2_score, f1_score, plot_confusion_matrix\n",
    "from lightgbm import LGBMRegressor, LGBMClassifier, plot_tree\n",
    "from tqdm import tqdm"
   ]
  },
  {
   "cell_type": "markdown",
   "id": "76fa93e1",
   "metadata": {},
   "source": [
    "## Dados"
   ]
  },
  {
   "cell_type": "code",
   "execution_count": null,
   "id": "00562391",
   "metadata": {},
   "outputs": [],
   "source": [
    "Xy = pd.read_parquet(\"/home/brunovieira/Tamires_Experiments/Bases_de_Dados/Xy_Voxels_871.parquet\")\n",
    "Xy = Xy.rename(columns={'thickness':'curv', 'curv':'thickness'})"
   ]
  },
  {
   "cell_type": "code",
   "execution_count": 3,
   "id": "2e18b76f",
   "metadata": {},
   "outputs": [],
   "source": [
    "main = ['participant', 'thickness', 'age', 'structure']\n",
    "\n",
    "geometrics =['area', 'curv', 'sulc']\n",
    "\n",
    "atlas = ['atlasDF', 'atlasEcono']\n",
    "\n",
    "basic =['hemisphere', 'sex', 'handedness']\n",
    "\n",
    "basic_dummies =['hemisphere_left', 'sex_FEMALE']\n",
    "\n",
    "structure_dummies =['structure_FA', 'structure_FB', 'structure_FC', 'structure_FCBm',\n",
    "                    'structure_FD', 'structure_FDT', 'structure_FDdelta', 'structure_FE',\n",
    "                    'structure_FF', 'structure_FG', 'structure_FH', 'structure_FJK',\n",
    "                    'structure_IA', 'structure_IB', 'structure_LA1', 'structure_LA2',\n",
    "                    'structure_LC1', 'structure_LC2', 'structure_LC3', 'structure_LD',\n",
    "                    'structure_OA', 'structure_OB', 'structure_OC', 'structure_PA',\n",
    "                    'structure_PB', 'structure_PC', 'structure_PD', 'structure_PE',\n",
    "                    'structure_PF', 'structure_PG', 'structure_PH', 'structure_TA',\n",
    "                    'structure_TB', 'structure_TC', 'structure_TD', 'structure_TE',\n",
    "                    'structure_TF', 'structure_TG']\n",
    "\n",
    "bb1 =['ve_1','ve_2', 've_3', 've_4', 've_5', 've_6']\n",
    "\n",
    "bb2 =['ve1_age', 've2_age', 've3_age','ve4_age', 've5_age', 've6_age']\n",
    "\n",
    "bb3 =['bigbrain_layer_1','bigbrain_layer_2', 'bigbrain_layer_3',\n",
    "      'bigbrain_layer_4','bigbrain_layer_5', 'bigbrain_layer_6']\n",
    "\n",
    "bb4 =['bblayer1_age', 'bblayer2_age', 'bblayer3_age', \n",
    "      'bblayer4_age','bblayer5_age', 'bblayer6_age'] \n"
   ]
  },
  {
   "cell_type": "code",
   "execution_count": null,
   "id": "b72290a3",
   "metadata": {},
   "outputs": [],
   "source": [
    "Xy[bb4] = Xy[bb4].applymap(lambda x: np.round(x,3))\n",
    "Xy[bb4]"
   ]
  },
  {
   "cell_type": "markdown",
   "id": "2318d4a4",
   "metadata": {},
   "source": [
    "## Modelos: Preprocessing, Treino, Peformance e Explicabilidade "
   ]
  },
  {
   "cell_type": "code",
   "execution_count": 4,
   "id": "007a0bae",
   "metadata": {},
   "outputs": [],
   "source": [
    "def Preprocessing(Xy, sample_size=50):\n",
    "    \n",
    "    ##### Criando sub amostra com N participantes\n",
    "\n",
    "    participants_list0 = Xy.participant.unique()\n",
    "    participants_test0 = random.sample(list(participants_list0), sample_size)\n",
    "    sample = Xy[Xy.participant.isin(participants_test0)]\n",
    "\n",
    "    ##### Dropando voxels thickness are zeros\n",
    "\n",
    "    sample = sample[sample['thickness'].astype(bool)]\n",
    "\n",
    "    ##### Separando Treino e Teste 20% \n",
    "\n",
    "    n_test = int(len(participants_test0)*0.2)\n",
    "    participants_test = random.sample(list(participants_test0), n_test)\n",
    "    Xy_test = sample[sample.participant.isin(participants_test)]\n",
    "    Xy_train = sample[~sample.participant.isin(participants_test)]\n",
    "\n",
    "    ##### Criando Base a Nivel de Voxel\n",
    "   \n",
    "    Xy_train_vo = Xy_train#.drop(columns = ['participant', 'structure']) \n",
    "    Xy_test_vo = Xy_test#.drop(columns = ['participant', 'structure']) \n",
    "    \n",
    "    ##### Criando Base Agrupada\n",
    "\n",
    "    # treino\n",
    "    list_g = []\n",
    "    for i, participant in enumerate(Xy_train.participant.unique()):\n",
    "        df_g = Xy_train[Xy_train.participant == participant].groupby(['structure']).mean()\n",
    "        list_g.append(df_g)\n",
    "\n",
    "    Xy_train_gr = pd.concat(list_g) \n",
    "    Xy_train_gr = Xy_train_gr.reset_index(drop=True)\n",
    "\n",
    "    # test\n",
    "    list_g = []\n",
    "    for i, participant in enumerate(Xy_test.participant.unique()):\n",
    "        df_g = Xy_test[Xy_test.participant == participant].groupby(['structure']).mean()\n",
    "        list_g.append(df_g)\n",
    "\n",
    "    Xy_test_gr = pd.concat(list_g) \n",
    "    Xy_test_gr = Xy_test_gr.reset_index(drop=True)\n",
    "\n",
    "    list_Xy = [Xy_train_vo, Xy_test_vo, Xy_train_gr, Xy_test_gr]\n",
    "    \n",
    "    return list_Xy"
   ]
  },
  {
   "cell_type": "code",
   "execution_count": 5,
   "id": "a4d0dda0",
   "metadata": {},
   "outputs": [],
   "source": [
    "sample_size = 50 #200 é muito\n",
    "list_Xy = Preprocessing(Xy, sample_size=sample_size)"
   ]
  },
  {
   "cell_type": "code",
   "execution_count": 6,
   "id": "31e7f138",
   "metadata": {},
   "outputs": [],
   "source": [
    "class Model:\n",
    "    \n",
    "    def __init__(self,\n",
    "                 list_Xy,\n",
    "                 target = 'thickness',\n",
    "                 categorical_target = False,\n",
    "                 features = ['age'] + geometrics + bb3 , \n",
    "                 categorical_feature = [],\n",
    "                 voxel = False,\n",
    "                 structure_modeling = False):\n",
    "        \n",
    "        self.list_Xy = list_Xy\n",
    "        self.target = target\n",
    "        self.categorical_target = categorical_target\n",
    "        self.features = features\n",
    "        self.categorical_feature = categorical_feature\n",
    "        self.voxel = voxel\n",
    "        self.structure_modeling = structure_modeling\n",
    "        \n",
    "        Xy_train_vo, Xy_test_vo, Xy_train_gr, Xy_test_gr = list_Xy\n",
    "        \n",
    "        if categorical_target:\n",
    "            model_name = 'LGBMClassifier'\n",
    "        else:\n",
    "            model_name = 'LGBMRegressor'\n",
    "        if voxel:\n",
    "            model_type = 'Voxels'\n",
    "            len_instances = len(Xy_train_vo)+len(Xy_test_vo)\n",
    "        else:\n",
    "            model_type = 'Regioes Corticais'\n",
    "            len_instances = len(Xy_train_gr)+len(Xy_test_gr)\n",
    "\n",
    "\n",
    "        self.resume = '- Target: '+target+'\\n\\n'+'- Features: '+ ', '.join(map(str, features)) +'\\n\\n'+'- Nivel: '+ model_type +'\\n\\n'+'- Algoritmo: '+model_name+'\\n\\n'+'- Base de Dados: '+ str(sample_size)+ ' individuos que geram '+ str(len_instances)+' '+model_type+' - 80% treino e 20% teste\\n\\n'\n",
    "    \n",
    "        ################### X y split\n",
    "\n",
    "        X_train_vo = Xy_train_vo.drop(columns = [target]) \n",
    "        X_test_vo = Xy_test_vo.drop(columns = [target]) \n",
    "        y_train_vo = Xy_train_vo[target]\n",
    "        y_test_vo = Xy_test_vo[target]\n",
    "\n",
    "        X_train_gr = Xy_train_gr.drop(columns=[target])\n",
    "        y_train_gr = Xy_train_gr[target]\n",
    "        X_test_gr = Xy_test_gr.drop(columns=[target])\n",
    "        y_test_gr = Xy_test_gr[target]   \n",
    "\n",
    "        ##################### voxel or regions\n",
    "\n",
    "        if voxel:\n",
    "            model_type = 'Voxels'\n",
    "            ide = 0\n",
    "            self.alpha_scatter = 0.1\n",
    "            X_train = X_train_vo[features + ['atlasEcono']]\n",
    "            X_test = X_test_vo[features+ ['atlasEcono']]\n",
    "            y_train = y_train_vo\n",
    "            y_test = y_test_vo\n",
    "        else:\n",
    "            model_type = 'Estruturas Corticais'\n",
    "            ide = 2\n",
    "            self.alpha_scatter = 0.8\n",
    "            X_train = X_train_gr[features+ ['atlasEcono']]\n",
    "            X_test = X_test_gr[features+ ['atlasEcono']]\n",
    "            y_train = y_train_gr\n",
    "            y_test = y_test_gr\n",
    "\n",
    "        #if structure_selection != 0:\n",
    "         #   index_train = X_train_vo.atlasEcono == self.structure_selection\n",
    "          #  index_test = X_test_vo.atlasEcono == self.structure_selection\n",
    "           # X_train = X_train[index_train]\n",
    "            #X_test = X_test[index_test]\n",
    "            #y_train = y_train[index_train]\n",
    "            #y_test = y_test[index_test]\n",
    "\n",
    "        ################### model\n",
    "\n",
    "        if categorical_target:\n",
    "\n",
    "            # transformation data\n",
    "            y_train = y_train.astype(int)\n",
    "            y_test = y_test.astype(int)\n",
    "\n",
    "            # train\n",
    "            model = LGBMClassifier(n_jobs=30, categorical_feature = categorical_feature).fit(X_train[features], y_train)\n",
    "        \n",
    "        else:\n",
    "\n",
    "            # train\n",
    "            model = LGBMRegressor(n_jobs=30, categorical_feature = categorical_feature).fit(X_train[features], y_train)\n",
    "            \n",
    "        if structure_modeling:\n",
    "            \n",
    "            # train model structures\n",
    "            models = []\n",
    "            structures = np.sort(list_Xy[ide].atlasEcono.unique())\n",
    "            for i in structures:\n",
    "                X_train_i = X_train[X_train.atlasEcono == i]\n",
    "                y_train_i = y_train[X_train.atlasEcono == i]\n",
    "                models.append([i,LGBMRegressor(n_jobs=30, categorical_feature = categorical_feature).fit(X_train_i, y_train_i)])\n",
    "            models = pd.DataFrame(models)\n",
    "            self.models = models\n",
    "            \n",
    "        ################### \n",
    "        \n",
    "        self.model = model\n",
    "        self.X_train = X_train\n",
    "        self.X_test = X_test\n",
    "        self.y_train = y_train\n",
    "        self.y_test = y_test \n",
    "        self.Xy_test_vo = Xy_test_vo\n",
    "    \n",
    "    \n",
    "    def _test_structure(self):\n",
    "\n",
    "        X_pred = {}\n",
    "        for i in list(m1.X_test.index):\n",
    "        \n",
    "            strutures = m1.X_test.loc[i].atlasEcono\n",
    "            n = m1.models[m1.models[0]==strutures][1].index.values[0]\n",
    "            X_test = m1.X_test.loc[i].values\n",
    "            y_pred[i] = m1.models[m1.models[0]==strutures][1][n].predict([X_test])\n",
    "            \n",
    "        y_pred = pd.Series(y_pred)\n",
    "        return X_pred\n",
    "        \n",
    "             \n",
    "    def test(self, output = 'score'): #score, vizualization, score_segmented\n",
    "\n",
    "        if self.categorical_target:\n",
    "\n",
    "            # classification\n",
    "\n",
    "            if output == 'vizualization':\n",
    "                y_pred = self.model.predict(self.X_test[self.features])\n",
    "                f1 = round(f1_score(self.y_test, y_pred, average='micro'),2)\n",
    "                fig, ax = plt.subplots(figsize=(12, 12))\n",
    "                plt.title('F1 = ' + str(f1))\n",
    "                plot_confusion_matrix(self.model, self.X_test, self.y_test, cmap=plt.cm.Blues, ax=ax)\n",
    "                plt.show()\n",
    "\n",
    "            if output == 'score':\n",
    "                y_pred = self.model.predict(self.X_test[self.features])\n",
    "                f1 = round(f1_score(self.y_test, y_pred, average='micro'),2)\n",
    "                return f1\n",
    "\n",
    "            else:\n",
    "                if self.voxel:\n",
    "                    t = 1\n",
    "                else:\n",
    "                    t = 3\n",
    "\n",
    "                score_segmented = []\n",
    "                econo_list = np.sort(self.list_Xy[t].atlasEcono.unique())\n",
    "                \n",
    "                for i in econo_list:\n",
    "                    y_test = self.list_Xy[t][self.list_Xy[t].atlasEcono==i][self.target]\n",
    "                    X_test = self.list_Xy[t][self.list_Xy[t].atlasEcono==i][self.features]\n",
    "                    y_pred = self.model.predict(X_test[self.features])\n",
    "                    f1 = round(f1_score(self.y_test, y_pred, average='micro'),2)\n",
    "                    score_segmented.append([i,f1])\n",
    "                return score_segmented\n",
    "            \n",
    "\n",
    "        else:\n",
    "\n",
    "            # regression            \n",
    "            if self.structure_modeling: \n",
    "                y_pred = self._test_structure()\n",
    "            else:\n",
    "                y_pred = self.model.predict(self.X_test[self.features])\n",
    "            \n",
    "            if output == 'vizualization':\n",
    "                r2 = round(r2_score(self.y_test, y_pred),2)\n",
    "                plt.figure(figsize=[8,8])\n",
    "                plt.title('R2 = '+str(r2))\n",
    "                plt.xlabel(\"true\")\n",
    "                plt.ylabel(\"prediction\")\n",
    "                plt.scatter(self.y_test,y_pred,alpha = self.alpha_scatter)\n",
    "                plt.show()\n",
    "                \n",
    "            if output == 'score':\n",
    "                r2 = round(r2_score(self.y_test, y_pred),2)\n",
    "                return r2\n",
    "            \n",
    "            else:\n",
    "                if self.voxel:\n",
    "                    t = 1\n",
    "                else:\n",
    "                    t = 3\n",
    "\n",
    "                score_segmented = []\n",
    "                econo_list = np.sort(self.list_Xy[t].atlasEcono.unique())\n",
    "                \n",
    "                for i in econo_list:\n",
    "                    y_test = self.list_Xy[t][self.list_Xy[t].atlasEcono==i][self.target]\n",
    "                    X_test = self.list_Xy[t][self.list_Xy[t].atlasEcono==i][self.features]\n",
    "                    \n",
    "                    if self.structure_modeling: \n",
    "                        y_pred = self._test_structure()\n",
    "                    else:\n",
    "                        y_pred = self.model.predict(X_test[self.features])\n",
    "                                        \n",
    "                    r2 = round(r2_score(y_test, y_pred),2)\n",
    "                    score_segmented.append([i,r2])   \n",
    "                return score_segmented\n",
    "            \n",
    "    \n",
    "    def explicability(self):\n",
    "    \n",
    "        shap_values = shap.TreeExplainer(self.model).shap_values(self.X_test[self.features])\n",
    "        shap.summary_plot(shap_values, self.X_test[self.features], plot_type=\"bar\")\n",
    "        plt.figure()\n",
    "        shap.summary_plot(shap_values, self.X_test[self.features])\n",
    "        \n",
    "        plot_tree(self.model, figsize = (30,30), show_info = ['split_gain','internal_value','internal_count','data_percentage','leaf_count',])\n",
    "        \n",
    "        \n",
    "    def test_group(self):\n",
    "         \n",
    "        Xy_av = self.Xy_test_vo[['participant','structure','thickness']]\n",
    "        Xy_av['thickness_pred'] = self.model.predict(self.X_test[self.features])\n",
    "\n",
    "        list_groupby = []\n",
    "        for i, participant in enumerate(Xy_av.participant.unique()):\n",
    "            df_av = Xy_av[Xy_av.participant == participant].groupby(['structure']).mean()\n",
    "            df_av['participant_i'] = i\n",
    "            df_av['participant'] = participant\n",
    "            list_groupby.append(df_av)\n",
    "        Xy_groupby = pd.concat(list_groupby)   \n",
    "\n",
    "        plt.figure(figsize=[8,8])\n",
    "        plt.title('Modelo com Voxel com Agrupamento na Avaliação: R2 = '+str(round(r2_score(Xy_groupby.thickness, Xy_groupby.thickness_pred),2)))\n",
    "        plt.scatter(Xy_groupby.thickness, \n",
    "                    Xy_groupby.thickness_pred)\n",
    "        plt.show()\n"
   ]
  },
  {
   "cell_type": "code",
   "execution_count": 7,
   "id": "29113449",
   "metadata": {},
   "outputs": [
    {
     "name": "stderr",
     "output_type": "stream",
     "text": [
      "categorical_feature keyword has been found in `params` and will be ignored.\n",
      "Please use categorical_feature argument of the Dataset constructor to pass this parameter.\n"
     ]
    },
    {
     "ename": "UnboundLocalError",
     "evalue": "local variable 'y_pred' referenced before assignment",
     "output_type": "error",
     "traceback": [
      "\u001b[0;31m---------------------------------------------------------------------------\u001b[0m",
      "\u001b[0;31mUnboundLocalError\u001b[0m                         Traceback (most recent call last)",
      "\u001b[0;32m/tmp/ipykernel_4536/1549747238.py\u001b[0m in \u001b[0;36m<module>\u001b[0;34m\u001b[0m\n\u001b[1;32m      1\u001b[0m \u001b[0mm1\u001b[0m \u001b[0;34m=\u001b[0m \u001b[0mModel\u001b[0m\u001b[0;34m(\u001b[0m\u001b[0mlist_Xy\u001b[0m\u001b[0;34m,\u001b[0m \u001b[0mstructure_modeling\u001b[0m\u001b[0;34m=\u001b[0m\u001b[0;32mTrue\u001b[0m\u001b[0;34m)\u001b[0m\u001b[0;34m\u001b[0m\u001b[0;34m\u001b[0m\u001b[0m\n\u001b[0;32m----> 2\u001b[0;31m \u001b[0mm1\u001b[0m\u001b[0;34m.\u001b[0m\u001b[0mtest\u001b[0m\u001b[0;34m(\u001b[0m\u001b[0;34m'vizualization'\u001b[0m\u001b[0;34m)\u001b[0m\u001b[0;34m\u001b[0m\u001b[0;34m\u001b[0m\u001b[0m\n\u001b[0m",
      "\u001b[0;32m/tmp/ipykernel_4536/3332081194.py\u001b[0m in \u001b[0;36mtest\u001b[0;34m(self, output)\u001b[0m\n\u001b[1;32m    166\u001b[0m             \u001b[0;31m# regression\u001b[0m\u001b[0;34m\u001b[0m\u001b[0;34m\u001b[0m\u001b[0;34m\u001b[0m\u001b[0m\n\u001b[1;32m    167\u001b[0m             \u001b[0;32mif\u001b[0m \u001b[0mself\u001b[0m\u001b[0;34m.\u001b[0m\u001b[0mstructure_modeling\u001b[0m\u001b[0;34m:\u001b[0m\u001b[0;34m\u001b[0m\u001b[0;34m\u001b[0m\u001b[0m\n\u001b[0;32m--> 168\u001b[0;31m                 \u001b[0my_pred\u001b[0m \u001b[0;34m=\u001b[0m \u001b[0mself\u001b[0m\u001b[0;34m.\u001b[0m\u001b[0m_test_structure\u001b[0m\u001b[0;34m(\u001b[0m\u001b[0;34m)\u001b[0m\u001b[0;34m\u001b[0m\u001b[0;34m\u001b[0m\u001b[0m\n\u001b[0m\u001b[1;32m    169\u001b[0m             \u001b[0;32melse\u001b[0m\u001b[0;34m:\u001b[0m\u001b[0;34m\u001b[0m\u001b[0;34m\u001b[0m\u001b[0m\n\u001b[1;32m    170\u001b[0m                 \u001b[0my_pred\u001b[0m \u001b[0;34m=\u001b[0m \u001b[0mself\u001b[0m\u001b[0;34m.\u001b[0m\u001b[0mmodel\u001b[0m\u001b[0;34m.\u001b[0m\u001b[0mpredict\u001b[0m\u001b[0;34m(\u001b[0m\u001b[0mself\u001b[0m\u001b[0;34m.\u001b[0m\u001b[0mX_test\u001b[0m\u001b[0;34m[\u001b[0m\u001b[0mself\u001b[0m\u001b[0;34m.\u001b[0m\u001b[0mfeatures\u001b[0m\u001b[0;34m]\u001b[0m\u001b[0;34m)\u001b[0m\u001b[0;34m\u001b[0m\u001b[0;34m\u001b[0m\u001b[0m\n",
      "\u001b[0;32m/tmp/ipykernel_4536/3332081194.py\u001b[0m in \u001b[0;36m_test_structure\u001b[0;34m(self)\u001b[0m\n\u001b[1;32m    119\u001b[0m             \u001b[0mn\u001b[0m \u001b[0;34m=\u001b[0m \u001b[0mm1\u001b[0m\u001b[0;34m.\u001b[0m\u001b[0mmodels\u001b[0m\u001b[0;34m[\u001b[0m\u001b[0mm1\u001b[0m\u001b[0;34m.\u001b[0m\u001b[0mmodels\u001b[0m\u001b[0;34m[\u001b[0m\u001b[0;36m0\u001b[0m\u001b[0;34m]\u001b[0m\u001b[0;34m==\u001b[0m\u001b[0mstrutures\u001b[0m\u001b[0;34m]\u001b[0m\u001b[0;34m[\u001b[0m\u001b[0;36m1\u001b[0m\u001b[0;34m]\u001b[0m\u001b[0;34m.\u001b[0m\u001b[0mindex\u001b[0m\u001b[0;34m.\u001b[0m\u001b[0mvalues\u001b[0m\u001b[0;34m[\u001b[0m\u001b[0;36m0\u001b[0m\u001b[0;34m]\u001b[0m\u001b[0;34m\u001b[0m\u001b[0;34m\u001b[0m\u001b[0m\n\u001b[1;32m    120\u001b[0m             \u001b[0mX_test\u001b[0m \u001b[0;34m=\u001b[0m \u001b[0mm1\u001b[0m\u001b[0;34m.\u001b[0m\u001b[0mX_test\u001b[0m\u001b[0;34m.\u001b[0m\u001b[0mloc\u001b[0m\u001b[0;34m[\u001b[0m\u001b[0mi\u001b[0m\u001b[0;34m]\u001b[0m\u001b[0;34m.\u001b[0m\u001b[0mvalues\u001b[0m\u001b[0;34m\u001b[0m\u001b[0;34m\u001b[0m\u001b[0m\n\u001b[0;32m--> 121\u001b[0;31m             \u001b[0my_pred\u001b[0m\u001b[0;34m[\u001b[0m\u001b[0mi\u001b[0m\u001b[0;34m]\u001b[0m \u001b[0;34m=\u001b[0m \u001b[0mm1\u001b[0m\u001b[0;34m.\u001b[0m\u001b[0mmodels\u001b[0m\u001b[0;34m[\u001b[0m\u001b[0mm1\u001b[0m\u001b[0;34m.\u001b[0m\u001b[0mmodels\u001b[0m\u001b[0;34m[\u001b[0m\u001b[0;36m0\u001b[0m\u001b[0;34m]\u001b[0m\u001b[0;34m==\u001b[0m\u001b[0mstrutures\u001b[0m\u001b[0;34m]\u001b[0m\u001b[0;34m[\u001b[0m\u001b[0;36m1\u001b[0m\u001b[0;34m]\u001b[0m\u001b[0;34m[\u001b[0m\u001b[0mn\u001b[0m\u001b[0;34m]\u001b[0m\u001b[0;34m.\u001b[0m\u001b[0mpredict\u001b[0m\u001b[0;34m(\u001b[0m\u001b[0;34m[\u001b[0m\u001b[0mX_test\u001b[0m\u001b[0;34m]\u001b[0m\u001b[0;34m)\u001b[0m\u001b[0;34m\u001b[0m\u001b[0;34m\u001b[0m\u001b[0m\n\u001b[0m\u001b[1;32m    122\u001b[0m \u001b[0;34m\u001b[0m\u001b[0m\n\u001b[1;32m    123\u001b[0m         \u001b[0my_pred\u001b[0m \u001b[0;34m=\u001b[0m \u001b[0mpd\u001b[0m\u001b[0;34m.\u001b[0m\u001b[0mSeries\u001b[0m\u001b[0;34m(\u001b[0m\u001b[0my_pred\u001b[0m\u001b[0;34m)\u001b[0m\u001b[0;34m\u001b[0m\u001b[0;34m\u001b[0m\u001b[0m\n",
      "\u001b[0;31mUnboundLocalError\u001b[0m: local variable 'y_pred' referenced before assignment"
     ]
    }
   ],
   "source": [
    "m1 = Model(list_Xy, structure_modeling=True)\n",
    "m1.test('vizualization')"
   ]
  },
  {
   "cell_type": "code",
   "execution_count": 25,
   "id": "db81201c",
   "metadata": {},
   "outputs": [
    {
     "name": "stderr",
     "output_type": "stream",
     "text": [
      "categorical_feature keyword has been found in `params` and will be ignored.\n",
      "Please use categorical_feature argument of the Dataset constructor to pass this parameter.\n",
      "Progress: 100%|██████████| 380/380 [00:00<00:00, 620.14it/s]\n"
     ]
    },
    {
     "data": {
      "image/png": "[encoded data removed]",
      "text/plain": [
       "<Figure size 576x576 with 1 Axes>"
      ]
     },
     "metadata": {
      "needs_background": "light"
     },
     "output_type": "display_data"
    }
   ],
   "source": [
    "m1 = Model(list_Xy, structure_modeling=True)\n",
    "\n",
    "y_pred = {}\n",
    "for i in tqdm(list(m1.X_test.index), total = len(m1.X_test), desc =\"Progress\"):\n",
    "\n",
    "    strutures = m1.X_test.loc[i].atlasEcono\n",
    "    n = m1.models[m1.models[0]==strutures][1].index.values[0]\n",
    "    X_test = m1.X_test.loc[i].values\n",
    "    y_pred[i] = m1.models[m1.models[0]==strutures][1][n].predict([X_test])\n",
    "\n",
    "y_pred = pd.Series(y_pred)\n",
    "r2 = round(r2_score(m1.y_test, y_pred),2)\n",
    "plt.figure(figsize=[8,8])\n",
    "plt.title('R2 = '+str(r2))\n",
    "plt.xlabel(\"true\")\n",
    "plt.ylabel(\"prediction\")\n",
    "plt.scatter(m1.y_test,y_pred,alpha = m1.alpha_scatter)\n",
    "plt.show()"
   ]
  },
  {
   "cell_type": "code",
   "execution_count": null,
   "id": "7ffd744a",
   "metadata": {},
   "outputs": [],
   "source": [
    "r2 = round(r2_score(m.y_test, y_pred),2)\n",
    "plt.figure(figsize=[8,8])\n",
    "plt.title('R2 = '+str(r2))\n",
    "plt.xlabel(\"true\")\n",
    "plt.ylabel(\"prediction\")\n",
    "plt.scatter(m.y_test, y_pred, alpha = m.alpha_scatter)\n",
    "plt.show()"
   ]
  },
  {
   "cell_type": "code",
   "execution_count": 8,
   "id": "6a9d926a",
   "metadata": {},
   "outputs": [
    {
     "name": "stderr",
     "output_type": "stream",
     "text": [
      "categorical_feature keyword has been found in `params` and will be ignored.\n",
      "Please use categorical_feature argument of the Dataset constructor to pass this parameter.\n"
     ]
    },
    {
     "name": "stdout",
     "output_type": "stream",
     "text": [
      "- Target: thickness\n",
      "\n",
      "- Features: age, area, curv, sulc, bigbrain_layer_1, bigbrain_layer_2, bigbrain_layer_3, bigbrain_layer_4, bigbrain_layer_5, bigbrain_layer_6\n",
      "\n",
      "- Nivel: Regioes Corticais\n",
      "\n",
      "- Algoritmo: LGBMRegressor\n",
      "\n",
      "- Base de Dados: 50 individuos que geram 1900 Regioes Corticais - 80% treino e 20% teste\n",
      "\n",
      "\n"
     ]
    },
    {
     "data": {
      "image/png": "[encoded data removed]",
      "text/plain": [
       "<Figure size 576x576 with 1 Axes>"
      ]
     },
     "metadata": {
      "needs_background": "light"
     },
     "output_type": "display_data"
    },
    {
     "data": {
      "text/plain": [
       "[[2.0, -0.14],\n",
       " [3.0, -0.26],\n",
       " [4.0, -0.87],\n",
       " [5.0, 0.56],\n",
       " [6.0, -1.0],\n",
       " [7.0, -2.11],\n",
       " [8.0, -0.32],\n",
       " [9.0, -0.36],\n",
       " [10.0, 0.57],\n",
       " [11.0, -1.56],\n",
       " [12.0, -0.94],\n",
       " [13.0, -0.09],\n",
       " [18.0, -0.41],\n",
       " [19.0, 0.51],\n",
       " [20.0, 0.19],\n",
       " [21.0, -0.75],\n",
       " [22.0, -0.08],\n",
       " [23.0, 0.52],\n",
       " [24.0, -1.62],\n",
       " [25.0, 0.21],\n",
       " [27.0, -0.26],\n",
       " [28.0, -0.46],\n",
       " [29.0, 0.09],\n",
       " [30.0, -0.38],\n",
       " [31.0, 0.04],\n",
       " [32.0, -0.33],\n",
       " [33.0, -0.41],\n",
       " [34.0, -0.58],\n",
       " [35.0, -0.35],\n",
       " [36.0, -0.91],\n",
       " [37.0, -0.12],\n",
       " [38.0, 0.18],\n",
       " [39.0, 0.11],\n",
       " [40.0, -0.66],\n",
       " [41.0, -0.08],\n",
       " [42.0, 0.34],\n",
       " [43.0, -0.04],\n",
       " [44.0, 0.22]]"
      ]
     },
     "execution_count": 8,
     "metadata": {},
     "output_type": "execute_result"
    }
   ],
   "source": [
    "m = Model(list_Xy)\n",
    "print(m.resume)\n",
    "m.test('vizualization')"
   ]
  },
  {
   "cell_type": "raw",
   "id": "fe573f74",
   "metadata": {},
   "source": [
    "econo_list = np.sort(list_Xy[3].atlasEcono.unique())\n",
    "for i in econo_list:\n",
    "    m2 = Model(list_Xy, structure_selection=i, voxel=True)\n",
    "    print(i)\n",
    "    print(m2.test('score'))"
   ]
  },
  {
   "cell_type": "code",
   "execution_count": null,
   "id": "7da9e24b",
   "metadata": {},
   "outputs": [],
   "source": [
    "#m1 = Model(list_Xy)\n",
    "print(m1.resume)\n",
    "m1.test('vizualization')\n",
    "m1.test('score_segmented')"
   ]
  },
  {
   "cell_type": "code",
   "execution_count": null,
   "id": "56d7cdf6",
   "metadata": {
    "scrolled": true
   },
   "outputs": [],
   "source": [
    "if m.voxel:\n",
    "    t = 1\n",
    "else:\n",
    "    t = 3\n",
    "\n",
    "score_segmented = []\n",
    "econo_list = np.sort(m.list_Xy[t].atlasEcono.unique())\n",
    "\n",
    "for i in econo_list:\n",
    "    \n",
    "    y_test = m.list_Xy[t][m.list_Xy[t].atlasEcono==i][m.target]\n",
    "    X_test = m.list_Xy[t][m.list_Xy[t].atlasEcono==i][m.features]\n",
    "    y_pred = m.model.predict(X_test)\n",
    "    \n",
    "    r2 = round(r2_score(y_test, y_pred),2)\n",
    "    plt.figure(figsize=[8,8])\n",
    "    plt.title('R2 = '+str(r2))\n",
    "    plt.xlabel(\"true\")\n",
    "    plt.ylabel(\"prediction\")\n",
    "    plt.scatter(y_test,y_pred,alpha = m.alpha_scatter)\n",
    "    plt.show()\n",
    "    \n",
    "    score_segmented.append([i,r2])\n",
    "score_segmented"
   ]
  },
  {
   "cell_type": "code",
   "execution_count": null,
   "id": "1781ccb1",
   "metadata": {
    "scrolled": false
   },
   "outputs": [],
   "source": [
    "model(list_Xy,\n",
    "     features = ['age']+[bb3[3]]\n",
    "     )"
   ]
  },
  {
   "cell_type": "code",
   "execution_count": null,
   "id": "d500edc4",
   "metadata": {
    "scrolled": false
   },
   "outputs": [],
   "source": [
    "model(list_Xy,\n",
    "      features = [atlas[0]] + geometrics + ['age'] , \n",
    "      categorical_feature = [0])"
   ]
  },
  {
   "cell_type": "code",
   "execution_count": null,
   "id": "b4f15dcd",
   "metadata": {
    "scrolled": true
   },
   "outputs": [],
   "source": [
    "model(list_Xy,\n",
    "      target = atlas[0],\n",
    "      features =  bb3 , \n",
    "      categorical_target = True,\n",
    "      explicability = True,\n",
    "      voxel = True\n",
    "     )"
   ]
  },
  {
   "cell_type": "code",
   "execution_count": null,
   "id": "87e114b8",
   "metadata": {},
   "outputs": [],
   "source": [
    "model(list_Xy,\n",
    "      target = atlas[1],\n",
    "      features =  bb3 , \n",
    "      categorical_target = True,\n",
    "      explicability = True,\n",
    "      voxel = True\n",
    "     ) # colocar proporcao/porcentagem nos numeros"
   ]
  },
  {
   "cell_type": "code",
   "execution_count": null,
   "id": "1eb6b5f7",
   "metadata": {},
   "outputs": [],
   "source": [
    "atlas"
   ]
  },
  {
   "cell_type": "code",
   "execution_count": null,
   "id": "e8564245",
   "metadata": {
    "scrolled": true
   },
   "outputs": [],
   "source": [
    "model(list_Xy,\n",
    "      target = 'age',\n",
    "      features = atlas + basic_dummies + geometrics + bb3 , \n",
    "      categorical_feature = [0,1,2,3],\n",
    "      explicability = False\n",
    "     ) # pivotar para fazer esse modelo funcionar, cada instancia tem que ser um individuo e as regioes viram features"
   ]
  },
  {
   "cell_type": "markdown",
   "id": "a1036a5a",
   "metadata": {},
   "source": [
    "### Matrix de Correlacao variaveis continuas"
   ]
  },
  {
   "cell_type": "code",
   "execution_count": null,
   "id": "7b13a3c9",
   "metadata": {},
   "outputs": [],
   "source": [
    "df = list_Xy[2][['thickness','age']+ geometrics + bb1+ bb3]\n",
    "\n",
    "f = plt.figure(figsize=(12, 12))\n",
    "plt.matshow(df.corr(method = 'spearman'), fignum=f.number) \n",
    "\n",
    "plt.xticks(range(df.select_dtypes(['number']).shape[1]), df.select_dtypes(['number']).columns, fontsize=8, rotation=45)\n",
    "plt.yticks(range(df.select_dtypes(['number']).shape[1]), df.select_dtypes(['number']).columns, fontsize=9)\n",
    "plt.title('Correlation Matriz', fontsize=14)\n",
    "\n",
    "cb = plt.colorbar()\n",
    "cb.ax.tick_params(labelsize=8)\n",
    "\n",
    "#for (x, y), value in np.ndenumerate(df):\n",
    "#    plt.text(x, y, f\"{value:.2f}\", va=\"center\", ha=\"center\")\n",
    "    \n",
    "plt.show()"
   ]
  },
  {
   "cell_type": "markdown",
   "id": "162b38e3",
   "metadata": {},
   "source": []
  }
 ],
 "metadata": {
  "kernelspec": {
   "display_name": "Python 3 (ipykernel)",
   "language": "python",
   "name": "python3"
  },
  "language_info": {
   "codemirror_mode": {
    "name": "ipython",
    "version": 3
   },
   "file_extension": ".py",
   "mimetype": "text/x-python",
   "name": "python",
   "nbconvert_exporter": "python",
   "pygments_lexer": "ipython3",
   "version": "3.9.6"
  }
 },
 "nbformat": 4,
 "nbformat_minor": 5
}
