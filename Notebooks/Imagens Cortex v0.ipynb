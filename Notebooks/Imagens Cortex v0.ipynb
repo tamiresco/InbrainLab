{
 "cells": [
  {
   "cell_type": "code",
   "execution_count": 1,
   "id": "cbb67262",
   "metadata": {},
   "outputs": [
    {
     "name": "stderr",
     "output_type": "stream",
     "text": [
      "Fetchers from the nilearn.datasets module will be updated in version 0.9 to return python strings instead of bytes and Pandas dataframes instead of Numpy arrays.\n"
     ]
    }
   ],
   "source": [
    "from sklearn.model_selection import GridSearchCV\n",
    "from lightgbm import LGBMRegressor, LGBMClassifier, plot_tree\n",
    "from sklearn.metrics import r2_score, f1_score, plot_confusion_matrix\n",
    "import pickle5 as pickle\n",
    "from tqdm import tqdm\n",
    "import pandas as pd\n",
    "import matplotlib.pyplot as plt\n",
    "import modelling\n",
    "import numpy as np\n",
    "from nilearn import plotting, datasets, surface  "
   ]
  },
  {
   "cell_type": "code",
   "execution_count": null,
   "id": "702b6e67",
   "metadata": {},
   "outputs": [],
   "source": [
    "m = pickle.load(open(\"/home/brunovieira/Tamires_Experiments/Outputs/exp1/finalized_model.sav\",'rb'))"
   ]
  },
  {
   "cell_type": "code",
   "execution_count": null,
   "id": "00002ac9",
   "metadata": {},
   "outputs": [],
   "source": [
    "fsaverage_mesh_right = '/home/brunovieira/Tamires_Experiments/Bases_de_Dados/nki_data/fsaverage/surf/rh.pial'\n",
    "fsaverage_thickness_right = '/home/brunovieira/Tamires_Experiments/Bases_de_Dados/nki_data/fsaverage/surf/rh.thickness'\n",
    "fsaverage_annot_right = '/home/brunovieira/Tamires_Experiments/Bases_de_Dados/nki_data/fsaverage/label/rh.Eco.annot'\n",
    "fsaverage_sulc_right = '/home/brunovieira/Tamires_Experiments/Bases_de_Dados/nki_data/fsaverage/surf/rh.avg_sulc' \n",
    "fsaverage_mesh_left = '/home/brunovieira/Tamires_Experiments/Bases_de_Dados/nki_data/fsaverage/surf/lh.pial'\n",
    "fsaverage_thickness_left = '/home/brunovieira/Tamires_Experiments/Bases_de_Dados/nki_data/fsaverage/surf/lh.thickness'\n",
    "fsaverage_annot_left = '/home/brunovieira/Tamires_Experiments/Bases_de_Dados/nki_data/fsaverage/label/lh.Eco.annot'\n",
    "fsaverage_sulc_left = '/home/brunovieira/Tamires_Experiments/Bases_de_Dados/nki_data/fsaverage/surf/lh.avg_sulc'"
   ]
  },
  {
   "cell_type": "code",
   "execution_count": null,
   "id": "c8ec2752",
   "metadata": {},
   "outputs": [],
   "source": [
    "score_segmented = m.test('score_segmented')\n",
    "our_econo = [2,3,4,5,6,7,8,9,10,11,12,13,18,19,20,21,22,23,24,25,27,28,29,30,31,32,33,34,35,36,37,38,39,40,41,42,43,44]\n",
    "all_econo = pd.Series(list(surface.load_surf_data(fsaverage_annot_right))).unique()\n",
    "\n",
    "extras = list(set(all_econo) - set(our_econo))\n",
    "extras = [[a,0.0001] for a in extras]\n",
    "\n",
    "r2_right = score_segmented[38:]\n",
    "r2_right = [[our_econo[i],b] for i, [a,b] in enumerate(r2_right)]\n",
    "r2_right = r2_right + extras\n",
    "a_right = pd.DataFrame(surface.load_surf_data(fsaverage_annot_right))\n",
    "b_right = pd.DataFrame(r2_right).set_index(0)\n",
    "result_right = a_right.join(b_right, on=0).rename(columns={0:'econo',1:'r2'})\n",
    "\n",
    "r2_left = score_segmented[:38]\n",
    "r2_left = [[our_econo[i],b] for i, [a,b] in enumerate(r2_left)]\n",
    "r2_left = r2_left + extras\n",
    "a_left = pd.DataFrame(surface.load_surf_data(fsaverage_annot_left))\n",
    "b_left = pd.DataFrame(r2_left).set_index(0)\n",
    "result_left = a_left.join(b_left, on=0).rename(columns={0:'econo',1:'r2'})"
   ]
  },
  {
   "cell_type": "code",
   "execution_count": null,
   "id": "fcbb3c01",
   "metadata": {},
   "outputs": [],
   "source": [
    "Age_Stable = pd.read_csv('/home/brunovieira/Tamires_Experiments/Bases_de_Dados/Age_Stable.csv', index_col = 0)\n",
    "Age_Stable_left['age_stable'] = [np.nan if a<40 or a>85 else a for a in Age_Stable_left.age_stable ]\n",
    "Age_Stable_left = Age_Stable[Age_Stable.hemisferio==1]\n",
    "Age_Stable_right = Age_Stable[Age_Stable.hemisferio==0]\n",
    "result_right = result_right.join(Age_Stable_right.set_index('econo'), on='econo')\n",
    "result_left = result_left.join(Age_Stable_left.set_index('econo'), on='econo')"
   ]
  },
  {
   "cell_type": "code",
   "execution_count": 2,
   "id": "73de2288",
   "metadata": {},
   "outputs": [],
   "source": [
    "Age_Stable = pd.read_csv('/home/brunovieira/Tamires_Experiments/Bases_de_Dados/Age_Stable.csv', index_col = 0)\n"
   ]
  },
  {
   "cell_type": "code",
   "execution_count": 5,
   "id": "e06b5be1",
   "metadata": {},
   "outputs": [
    {
     "data": {
      "text/plain": [
       "econo           22.477273\n",
       "age_stable      53.852273\n",
       "hemisferio       0.500000\n",
       "bigest_slope    -0.030217\n",
       "dtype: float64"
      ]
     },
     "execution_count": 5,
     "metadata": {},
     "output_type": "execute_result"
    }
   ],
   "source": [
    "Age_Stable.mean()"
   ]
  },
  {
   "cell_type": "code",
   "execution_count": null,
   "id": "44b62096",
   "metadata": {},
   "outputs": [],
   "source": [
    "result_left"
   ]
  },
  {
   "cell_type": "code",
   "execution_count": null,
   "id": "775293cc",
   "metadata": {},
   "outputs": [],
   "source": [
    "plt.scatter(result_left.r2, result_left.age_stable)"
   ]
  },
  {
   "cell_type": "code",
   "execution_count": null,
   "id": "840fd530",
   "metadata": {},
   "outputs": [],
   "source": [
    "plt.hist(result_left.age_stable, bins=40)\n",
    "plt.show()"
   ]
  },
  {
   "cell_type": "code",
   "execution_count": null,
   "id": "65d5fbd3",
   "metadata": {
    "scrolled": true
   },
   "outputs": [],
   "source": [
    "for view in ['lateral', 'medial', 'dorsal', 'ventral', 'anterior', 'posterior']:\n",
    "    fig = plotting.plot_surf_stat_map(surf_mesh = fsaverage_mesh_right, \n",
    "                                      stat_map = np.array(result_right.r2), \n",
    "                                      bg_map = fsaverage_sulc_right,\n",
    "                                      hemi='right', \n",
    "                                      view=view,\n",
    "                                      title = view +' view of right hemi ',\n",
    "                                      colorbar=True,\n",
    "                                      cmap = 'winter',\n",
    "                                      #threshold=0.01,\n",
    "                                      symmetric_cbar = False,\n",
    "                                      bg_on_data=True,\n",
    "                                      engine='plotly') \n",
    "fig.show() \n",
    "\n",
    "for view in ['lateral', 'medial', 'dorsal', 'ventral', 'anterior', 'posterior']:\n",
    "    fig = plotting.plot_surf_stat_map(surf_mesh = fsaverage_mesh_left, \n",
    "                                      stat_map = np.array(result_left.r2), \n",
    "                                      bg_map = fsaverage_sulc_left,\n",
    "                                      hemi='left', \n",
    "                                      view=view,\n",
    "                                      title = view +' view of left hemi ',\n",
    "                                      colorbar=True,\n",
    "                                      cmap = 'winter',\n",
    "                                      #threshold=0.01,\n",
    "                                      symmetric_cbar = False,\n",
    "                                      bg_on_data=True,\n",
    "                                      engine='plotly') \n",
    "fig.show() "
   ]
  },
  {
   "cell_type": "code",
   "execution_count": null,
   "id": "b7cb7979",
   "metadata": {},
   "outputs": [],
   "source": [
    "for view in ['lateral', 'medial', 'dorsal', 'ventral', 'anterior', 'posterior']:\n",
    "    fig = plotting.plot_surf_stat_map(surf_mesh = fsaverage_mesh_right, \n",
    "                                      stat_map = np.array(result_right.bigest_slope), \n",
    "                                      bg_map = fsaverage_sulc_right,\n",
    "                                      hemi='right', \n",
    "                                      view=view,\n",
    "                                      title = view +' view of right hemi ',\n",
    "                                      colorbar=True,\n",
    "                                      cmap = 'winter',\n",
    "                                      #threshold=20,\n",
    "                                      symmetric_cbar = False,\n",
    "                                      bg_on_data=True,\n",
    "                                      engine='plotly') \n",
    "fig.show() \n",
    "\n",
    "for view in ['lateral', 'medial', 'dorsal', 'ventral', 'anterior', 'posterior']:\n",
    "    fig = plotting.plot_surf_stat_map(surf_mesh = fsaverage_mesh_left, \n",
    "                                      stat_map = np.array(result_left.bigest_slope), \n",
    "                                      bg_map = fsaverage_sulc_left,\n",
    "                                      hemi='left', \n",
    "                                      view=view,\n",
    "                                      title = view +' view of left hemi ',\n",
    "                                      colorbar=True,\n",
    "                                      cmap = 'winter',\n",
    "                                      #threshold=20,\n",
    "                                      symmetric_cbar = False,\n",
    "                                      bg_on_data=True,\n",
    "                                      engine='plotly') \n",
    "fig.show() "
   ]
  },
  {
   "cell_type": "code",
   "execution_count": null,
   "id": "1af90edd",
   "metadata": {},
   "outputs": [],
   "source": []
  }
 ],
 "metadata": {
  "kernelspec": {
   "display_name": "Python 3 (ipykernel)",
   "language": "python",
   "name": "python3"
  },
  "language_info": {
   "codemirror_mode": {
    "name": "ipython",
    "version": 3
   },
   "file_extension": ".py",
   "mimetype": "text/x-python",
   "name": "python",
   "nbconvert_exporter": "python",
   "pygments_lexer": "ipython3",
   "version": "3.9.6"
  }
 },
 "nbformat": 4,
 "nbformat_minor": 5
}
