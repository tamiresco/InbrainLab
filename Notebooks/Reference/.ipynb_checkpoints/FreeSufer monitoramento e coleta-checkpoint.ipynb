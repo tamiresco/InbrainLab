{
 "cells": [
  {
   "cell_type": "code",
   "execution_count": null,
   "id": "381f936f",
   "metadata": {},
   "outputs": [],
   "source": [
    "import sys  \n",
    "sys.path.insert(0, '/home/brunovieira/backup/Tamires_Experiments/Scripts')\n",
    "import freesuferdata_to_dataframe as fd"
   ]
  },
  {
   "cell_type": "code",
   "execution_count": null,
   "id": "1f1549ef",
   "metadata": {},
   "outputs": [],
   "source": [
    "freesurfer_data_folder = \"/home/brunovieira/backup/Tamires_Experiments/Data/Nki_data/\"\n",
    "path_base_mri = \"/home/brunovieira/backup/Tamires_Experiments/Bases_de_Dados/\"\n",
    "path_example = \"/home/brunovieira/backup/Tamires_Experiments/Data/Nki_data/A00008326/\"\n",
    "\n",
    "sd = SuferData(freesurfer_data_folder = freesurfer_data_folder,\n",
    "               path_base_mri = path_base_mri,\n",
    "               path_example = path_example)"
   ]
  },
  {
   "cell_type": "code",
   "execution_count": null,
   "id": "b9c8b3f7",
   "metadata": {},
   "outputs": [],
   "source": [
    "sd.df_strutures_BN"
   ]
  },
  {
   "cell_type": "code",
   "execution_count": null,
   "id": "cf80414d",
   "metadata": {},
   "outputs": [],
   "source": [
    "sd.df_vertices.head()"
   ]
  },
  {
   "cell_type": "code",
   "execution_count": null,
   "id": "c7bbd03e",
   "metadata": {
    "scrolled": true
   },
   "outputs": [],
   "source": [
    "sd.save_files()\n",
    "sd.monitor()"
   ]
  },
  {
   "cell_type": "code",
   "execution_count": null,
   "id": "63a860e9",
   "metadata": {},
   "outputs": [],
   "source": [
    "sd.participants_list_incompleted"
   ]
  }
 ],
 "metadata": {
  "kernelspec": {
   "display_name": "Python 3 (ipykernel)",
   "language": "python",
   "name": "python3"
  },
  "language_info": {
   "codemirror_mode": {
    "name": "ipython",
    "version": 3
   },
   "file_extension": ".py",
   "mimetype": "text/x-python",
   "name": "python",
   "nbconvert_exporter": "python",
   "pygments_lexer": "ipython3",
   "version": "3.10.4"
  }
 },
 "nbformat": 4,
 "nbformat_minor": 5
}
