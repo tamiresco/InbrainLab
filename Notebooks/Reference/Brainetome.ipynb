{
 "cells": [
  {
   "cell_type": "code",
   "execution_count": null,
   "id": "f2c3e551",
   "metadata": {},
   "outputs": [],
   "source": [
    "import os\n",
    "import shutil\n",
    "import numpy as np\n",
    "import pandas as pd\n",
    "from nilearn import surface\n",
    "from matplotlib import pyplot as plt\n",
    "import time"
   ]
  },
  {
   "cell_type": "code",
   "execution_count": null,
   "id": "0fa8a0c9",
   "metadata": {},
   "outputs": [],
   "source": [
    "# thickness, annot\n",
    "# age\n",
    "# group by\n"
   ]
  },
  {
   "cell_type": "code",
   "execution_count": null,
   "id": "f4710c2f",
   "metadata": {},
   "outputs": [],
   "source": [
    "for participant in participants_list:\n",
    "    #t = t+1\n",
    "    #print(t)\n",
    "    for hemisphere in ['lh', 'rh']:\n",
    "\n",
    "        atlasEcono = \"/label/\"+str(hemisphere)+\".Eco.annot\" \n",
    "        atlasDF = \"/label/\"+str(hemisphere)+\".aparc.DKTatlas.annot\" # o atlas padrao do fastsurfer é lh.aparc.mapped.annot \n",
    "        atlasBN = \"/label/\"+str(hemisphere)+\".BN_Atlas.annot\" \n",
    "        area = \"/surf/\"+str(hemisphere)+\".area\"\n",
    "        curv = \"/surf/\"+str(hemisphere)+\".curv\"\n",
    "        sulc = \"/surf/\"+str(hemisphere)+\".sulc\"\n",
    "        thickness = \"/surf/\"+str(hemisphere)+\".thickness\"\n",
    "\n",
    "        features = [atlasEcono, atlasDF, area, curv, sulc, thickness]\n",
    "    \n",
    "        for feature in features:\n",
    "            try:\n",
    "                feature_processed.append(surface.load_surf_data(freesurfer_data_folder + participant + feature))\n",
    "            except:\n",
    "                #print('Error: '+str(participant)+' has no '+feature)\n",
    "                participants_list_incompleted.append(participant)\n",
    "                pass"
   ]
  }
 ],
 "metadata": {
  "kernelspec": {
   "display_name": "Python 3 (ipykernel)",
   "language": "python",
   "name": "python3"
  },
  "language_info": {
   "codemirror_mode": {
    "name": "ipython",
    "version": 3
   },
   "file_extension": ".py",
   "mimetype": "text/x-python",
   "name": "python",
   "nbconvert_exporter": "python",
   "pygments_lexer": "ipython3",
   "version": "3.10.4"
  }
 },
 "nbformat": 4,
 "nbformat_minor": 5
}
