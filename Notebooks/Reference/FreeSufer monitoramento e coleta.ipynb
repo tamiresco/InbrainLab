{
 "cells": [
  {
   "cell_type": "code",
   "execution_count": 1,
   "id": "381f936f",
   "metadata": {},
   "outputs": [],
   "source": [
    "import sys  \n",
    "sys.path.insert(0, '/home/brunovieira/backup/Tamires_Experiments/Scripts')\n",
    "import freesuferdata_to_dataframe as fd"
   ]
  },
  {
   "cell_type": "code",
   "execution_count": 2,
   "id": "69a894ef",
   "metadata": {},
   "outputs": [],
   "source": [
    "import os\n",
    "import shutil\n",
    "import numpy as np\n",
    "import pandas as pd\n",
    "from nilearn import surface\n",
    "\n",
    "\n",
    "def collector(participants_list, path_example):    \n",
    "   \n",
    "   # participants\n",
    "    participants_list = os.listdir(freesurfer_data_folder)\n",
    "    participants_list = np.setdiff1d(participants_list, ['fsaverage'])\n",
    "\n",
    "    # data format\n",
    "    df_dict = {\"participant\":[],\"hemisphere\":[],\"atlasEcono\":[],\"atlasBN\":[],\"atlasDKT\":[], \"area\":[],\"curv\":[],\"sulc\":[],\"thickness\":[]}\n",
    "    df_dict_ = {\"atlasEcono\":[],\"atlasBN\":[],\"atlasDKT\":[], \"area\":[],\"curv\":[],\"sulc\":[],\"thickness\":[]}\n",
    "    df_atlasBN = {}\n",
    "    participants_list_incompleted = []\n",
    "\n",
    "    for i, participant in enumerate(participants_list):\n",
    "        print(i)\n",
    "        for hemisphere in ['lh', 'rh']:\n",
    "\n",
    "            # paths\n",
    "            atlasEcono = [\"/label/\"+str(hemisphere)+\".Eco.annot\", 'atlasEcono']\n",
    "            atlasBN = [\"/label/\"+str(hemisphere)+\".BN_Atlas.annot\", 'atlasBN']\n",
    "            atlasDKT = [\"/label/\"+str(hemisphere)+\".aparc.DKTatlas.annot\", 'atlasDKT']\n",
    "            area = [\"/surf/\"+str(hemisphere)+\".area\", 'area']\n",
    "            curv = [\"/surf/\"+str(hemisphere)+\".curv\", 'curv']\n",
    "            sulc = [\"/surf/\"+str(hemisphere)+\".sulc\", 'sulc']\n",
    "            thickness = [\"/surf/\"+str(hemisphere)+\".thickness\", 'thickness']\n",
    "            features = [atlasEcono, atlasBN, atlasDKT, area, curv, sulc, thickness]\n",
    "\n",
    "            try:\n",
    "                # vertice data\n",
    "                for [feature, f] in features:\n",
    "                    data = surface.load_surf_data(freesurfer_data_folder + participant + feature)\n",
    "                    df_dict[f].extend(data)\n",
    "                    df_dict_[f].extend(data)\n",
    "                df_dict['participant'].extend([participant] * len(data))\n",
    "                df_dict['hemisphere'].extend([hemisphere] * len(data))\n",
    "\n",
    "                # strutural data\n",
    "                df_atlasBN_ = pd.DataFrame(df_dict_).groupby(by='atlasBN').mean().drop(columns=['atlasEcono', 'atlasDKT'])\n",
    "                df_atlasBN_['participant'] = [participant] * len(df_atlasBN_)\n",
    "                df_atlasBN_['hemisphere'] = [hemisphere] * len(df_atlasBN_)\n",
    "                df_atlasBN[participant+hemisphere] = df_atlasBN_\n",
    "                df_dict_ = {\"atlasEcono\":[],\"atlasBN\":[],\"atlasDKT\":[], \"area\":[],\"curv\":[],\"sulc\":[],\"thickness\":[]}\n",
    "\n",
    "            # participants incompleted\n",
    "            except:\n",
    "                participants_list_incompleted.append(participant) \n",
    "                \n",
    "    # to dataframes            \n",
    "    df_strutures_BN = pd.concat(df_atlasBN).droplevel(level=0).reset_index()\n",
    "    #df_vertices = pd.DataFrame(df_dict)\n",
    "    \n",
    "    # participants\n",
    "    participants_list_incompleted = np.unique(participants_list_incompleted)\n",
    "    participants_list_comp = [[i, sub] for i, sub in enumerate(participants_list) if sub not in participants_list_incompleted]\n",
    "    participants_list_completed_index = pd.DataFrame(participants_list_comp)[0]\n",
    "    participants_list_completed = pd.DataFrame(participants_list_comp)[1]\n",
    "    \n",
    "    # all info\n",
    "    all_info = [participants_list_completed_index, \n",
    "                participants_list_completed, \n",
    "                participants_list_incompleted,\n",
    "                df_strutures_BN] #df_vertices, \n",
    "    return all_info\n",
    "    \n",
    "    \n",
    "class SuferData:\n",
    "    \n",
    "    def __init__(self,\n",
    "                 freesurfer_data_folder = \"/home/brunovieira/Tamires_Experiments/Data/Nki_data/\",\n",
    "                 path_base_mri = \"/home/brunovieira/Tamires_Experiments/Data/\",\n",
    "                 path_example = \"/home/brunovieira/Tamires_Experiments/Data/Nki_data/A00008326/\"\n",
    "                    ):\n",
    "    \n",
    "        participants_list = os.listdir(freesurfer_data_folder)\n",
    "        participants_list = np.setdiff1d(participants_list, ['fsaverage'])\n",
    "\n",
    "        all_info = collector(participants_list, path_example) \n",
    "        self.participants_list_completed_index = all_info[0]\n",
    "        self.participants_list_completed = all_info[1]\n",
    "        self.participants_list_incompleted = all_info[2]\n",
    "        #self.df_vertices = all_info[3] \n",
    "        self.df_strutures_BN = all_info[3]\n",
    "\n",
    "        \n",
    "    def save_files(self):\n",
    "        self.df_strutures_BN.to_parquet(self.path_base_mri +\"/Brainnetome/data_894_BN.parquet\")\n",
    "        self.df_vertices.to_parquet(self.path_base_mri + \"MRI_Data_Vertices_\" + str(len(self.df_vertices.participant.unique())) + \".parquet\")\n",
    "\n",
    "        \n",
    "    def monitor(self):\n",
    "        print('Completed: '+str(len(self.participants_list_completed)))\n",
    "        print('Incompleted: '+str(len(self.participants_list_incompleted)))\n"
   ]
  },
  {
   "cell_type": "code",
   "execution_count": null,
   "id": "1f1549ef",
   "metadata": {
    "scrolled": true
   },
   "outputs": [
    {
     "name": "stdout",
     "output_type": "stream",
     "text": [
      "0\n",
      "1\n",
      "2\n",
      "3\n",
      "4\n",
      "5\n",
      "6\n",
      "7\n",
      "8\n",
      "9\n",
      "10\n",
      "11\n",
      "12\n",
      "13\n",
      "14\n",
      "15\n",
      "16\n",
      "17\n",
      "18\n",
      "19\n",
      "20\n",
      "21\n",
      "22\n",
      "23\n",
      "24\n",
      "25\n",
      "26\n",
      "27\n",
      "28\n",
      "29\n",
      "30\n",
      "31\n",
      "32\n",
      "33\n",
      "34\n",
      "35\n",
      "36\n",
      "37\n",
      "38\n",
      "39\n",
      "40\n"
     ]
    }
   ],
   "source": [
    "freesurfer_data_folder = \"/home/brunovieira/backup/Tamires_Experiments/Data/Nki_data/\"\n",
    "path_base_mri = \"/home/brunovieira/backup/Tamires_Experiments/Bases_de_Dados/\"\n",
    "path_example = \"/home/brunovieira/backup/Tamires_Experiments/Data/Nki_data/A00008326/\"\n",
    "\n",
    "sd = SuferData(freesurfer_data_folder = freesurfer_data_folder,\n",
    "               path_base_mri = path_base_mri,\n",
    "               path_example = path_example)"
   ]
  },
  {
   "cell_type": "code",
   "execution_count": null,
   "id": "497d1685",
   "metadata": {},
   "outputs": [],
   "source": [
    "sd.df_strutures_BN.to_parquet(\"/home/brunovieira/backup/Tamires_Experiments/Data/Brainnetome/data_894_BN.parquet\")"
   ]
  },
  {
   "cell_type": "code",
   "execution_count": null,
   "id": "cf80414d",
   "metadata": {},
   "outputs": [],
   "source": [
    "sd.df_vertices.head()"
   ]
  },
  {
   "cell_type": "code",
   "execution_count": null,
   "id": "c7bbd03e",
   "metadata": {
    "scrolled": true
   },
   "outputs": [],
   "source": [
    "sd.save_files()\n",
    "sd.monitor()"
   ]
  },
  {
   "cell_type": "code",
   "execution_count": null,
   "id": "63a860e9",
   "metadata": {},
   "outputs": [],
   "source": [
    "sd.participants_list_incompleted"
   ]
  }
 ],
 "metadata": {
  "kernelspec": {
   "display_name": "Python 3 (ipykernel)",
   "language": "python",
   "name": "python3"
  },
  "language_info": {
   "codemirror_mode": {
    "name": "ipython",
    "version": 3
   },
   "file_extension": ".py",
   "mimetype": "text/x-python",
   "name": "python",
   "nbconvert_exporter": "python",
   "pygments_lexer": "ipython3",
   "version": "3.10.4"
  }
 },
 "nbformat": 4,
 "nbformat_minor": 5
}
