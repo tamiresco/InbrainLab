{
 "cells": [
  {
   "cell_type": "code",
   "execution_count": null,
   "id": "381f936f",
   "metadata": {},
   "outputs": [],
   "source": [
    "sd = SuferData( freesurfer_data_folder = \"/home/brunovieira/Tamires_Experiments/Bases_de_Dados/nki_data/\",\n",
    "                path_base_mri = \"/home/brunovieira/Tamires_Experiments/Bases_de_Dados/\")\n",
    "sd.monitor()\n",
    "sd.save_files()"
   ]
  }
 ],
 "metadata": {
  "kernelspec": {
   "display_name": "Python 3 (ipykernel)",
   "language": "python",
   "name": "python3"
  },
  "language_info": {
   "codemirror_mode": {
    "name": "ipython",
    "version": 3
   },
   "file_extension": ".py",
   "mimetype": "text/x-python",
   "name": "python",
   "nbconvert_exporter": "python",
   "pygments_lexer": "ipython3",
   "version": "3.10.4"
  }
 },
 "nbformat": 4,
 "nbformat_minor": 5
}
