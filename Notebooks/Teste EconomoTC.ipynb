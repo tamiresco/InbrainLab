{
 "cells": [
  {
   "cell_type": "code",
   "execution_count": 1,
   "id": "4d4b5132",
   "metadata": {},
   "outputs": [
    {
     "name": "stderr",
     "output_type": "stream",
     "text": [
      "/home/brunovieira/.conda/envs/tamires/lib/python3.9/site-packages/nilearn/datasets/__init__.py:86: FutureWarning: Fetchers from the nilearn.datasets module will be updated in version 0.9 to return python strings instead of bytes and Pandas dataframes instead of Numpy arrays.\n",
      "  warn(\"Fetchers from the nilearn.datasets module will be \"\n"
     ]
    }
   ],
   "source": [
    "import os\n",
    "import shutil\n",
    "import numpy as np\n",
    "import pandas as pd\n",
    "from nilearn import surface\n",
    "from matplotlib import pyplot as plt"
   ]
  },
  {
   "cell_type": "code",
   "execution_count": 2,
   "id": "1e99e826",
   "metadata": {},
   "outputs": [],
   "source": [
    "path_rh = \"/home/brunovieira/Tamires_Experiments/Bases_de_Dados/nki_data/A00008326/label/rh.EcoCT.annot\"\n",
    "path_lh = \"/home/brunovieira/lh.EcoCT.annot\"\n",
    "path_lrh = '/home/brunovieira/Tamires_Experiments/Bases_de_Dados/nki_data/A00008326/label/rlh.EcoCT.annot'"
   ]
  },
  {
   "cell_type": "code",
   "execution_count": 21,
   "id": "e95cc49c",
   "metadata": {},
   "outputs": [],
   "source": [
    "path_rh_eco = '/home/brunovieira/Tamires_Experiments/Bases_de_Dados/nki_data/A00008326/label/rh.Eco.annot'\n",
    "path_rh_test = '/home/brunovieira/Tamires_Experiments/Bases_de_Dados/nki_data/A00008326/label/rh.aparc.DKTatlas.annot'"
   ]
  },
  {
   "cell_type": "code",
   "execution_count": 22,
   "id": "ecb312ca",
   "metadata": {},
   "outputs": [
    {
     "data": {
      "text/plain": [
       "(150999, 100555, 100555)"
      ]
     },
     "execution_count": 22,
     "metadata": {},
     "output_type": "execute_result"
    }
   ],
   "source": [
    "ecoTC = pd.Series(surface.load_surf_data(path_rh))\n",
    "eco = pd.Series(surface.load_surf_data(path_rh_eco))\n",
    "test = pd.Series(surface.load_surf_data(path_rh_test))\n",
    "#pd.concat([ecoTC, eco], axis=1)\n",
    "len(ecoTC), len(eco), len(test)"
   ]
  },
  {
   "cell_type": "code",
   "execution_count": null,
   "id": "335c6505",
   "metadata": {},
   "outputs": [],
   "source": []
  }
 ],
 "metadata": {
  "kernelspec": {
   "display_name": "Python 3 (ipykernel)",
   "language": "python",
   "name": "python3"
  },
  "language_info": {
   "codemirror_mode": {
    "name": "ipython",
    "version": 3
   },
   "file_extension": ".py",
   "mimetype": "text/x-python",
   "name": "python",
   "nbconvert_exporter": "python",
   "pygments_lexer": "ipython3",
   "version": "3.9.6"
  }
 },
 "nbformat": 4,
 "nbformat_minor": 5
}
