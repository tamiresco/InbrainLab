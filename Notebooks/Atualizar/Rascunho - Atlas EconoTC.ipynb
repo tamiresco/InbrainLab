{
 "cells": [
  {
   "cell_type": "code",
   "execution_count": 1,
   "id": "db5c3aaa",
   "metadata": {},
   "outputs": [
    {
     "name": "stderr",
     "output_type": "stream",
     "text": [
      "/home/brunovieira/.conda/envs/tamires/lib/python3.9/site-packages/nilearn/datasets/__init__.py:86: FutureWarning: Fetchers from the nilearn.datasets module will be updated in version 0.9 to return python strings instead of bytes and Pandas dataframes instead of Numpy arrays.\n",
      "  warn(\"Fetchers from the nilearn.datasets module will be \"\n"
     ]
    }
   ],
   "source": [
    "import pandas as pd\n",
    "from nilearn import surface"
   ]
  },
  {
   "cell_type": "code",
   "execution_count": 19,
   "id": "157af682",
   "metadata": {},
   "outputs": [],
   "source": [
    "freesurfer_data_folder = \"/home/brunovieira/Tamires_Experiments/Bases_de_Dados/nki_data/\"\n",
    "participant = \"A00010893\" # 08399, 08326, 10893\n",
    "hemisphere = 'lh'\n",
    "a = surface.load_surf_data(freesurfer_data_folder + participant + \"/label/\"+str(hemisphere)+\".EcoCT.annot\")"
   ]
  },
  {
   "cell_type": "code",
   "execution_count": 20,
   "id": "c2c49bc5",
   "metadata": {},
   "outputs": [
    {
     "data": {
      "text/plain": [
       "count    111833.0\n",
       "mean         -1.0\n",
       "std           0.0\n",
       "min          -1.0\n",
       "25%          -1.0\n",
       "50%          -1.0\n",
       "75%          -1.0\n",
       "max          -1.0\n",
       "dtype: float64"
      ]
     },
     "execution_count": 20,
     "metadata": {},
     "output_type": "execute_result"
    }
   ],
   "source": [
    "pd.Series(a).describe()"
   ]
  },
  {
   "cell_type": "code",
   "execution_count": null,
   "id": "8dc29f8f",
   "metadata": {},
   "outputs": [],
   "source": []
  }
 ],
 "metadata": {
  "kernelspec": {
   "display_name": "Python 3 (ipykernel)",
   "language": "python",
   "name": "python3"
  },
  "language_info": {
   "codemirror_mode": {
    "name": "ipython",
    "version": 3
   },
   "file_extension": ".py",
   "mimetype": "text/x-python",
   "name": "python",
   "nbconvert_exporter": "python",
   "pygments_lexer": "ipython3",
   "version": "3.9.6"
  }
 },
 "nbformat": 4,
 "nbformat_minor": 5
}
